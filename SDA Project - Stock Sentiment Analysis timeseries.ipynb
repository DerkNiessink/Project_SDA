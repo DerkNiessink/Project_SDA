{
 "cells": [
  {
   "cell_type": "markdown",
   "id": "b40333aa-be73-4350-bbee-e3cd549f0ab7",
   "metadata": {},
   "source": [
    "# SDA: Project\n",
    "\n",
    "**Name**: Nitai Nijholt\n",
    "\n",
    "**Student ID**: 12709018"
   ]
  },
  {
   "cell_type": "code",
   "execution_count": null,
   "id": "133590d3-d7cb-42b3-9624-d7e5daf602b9",
   "metadata": {},
   "outputs": [],
   "source": [
    "#loading the Twitter sentiment dataset"
   ]
  },
  {
   "cell_type": "code",
   "execution_count": 46,
   "id": "273dde6c-5d1e-45b3-984f-af24c8175fc9",
   "metadata": {},
   "outputs": [],
   "source": [
    "import pandas as pd\n",
    "import numpy as np\n",
    "import sklearn as sk\n",
    "import os\n",
    "import matplotlib.pyplot as plt"
   ]
  },
  {
   "cell_type": "code",
   "execution_count": 10,
   "id": "e23c6ecc-c43d-4c48-9887-8d5fecc89b5f",
   "metadata": {},
   "outputs": [
    {
     "data": {
      "text/plain": [
       "['tweets_labelled_09042020_16072020.csv',\n",
       " 'tweets_remaining_09042020_16072020.csv']"
      ]
     },
     "execution_count": 10,
     "metadata": {},
     "output_type": "execute_result"
    }
   ],
   "source": [
    "#returning the filenames\n",
    "\n",
    "dirname = 'C:\\\\Users\\\\Nitai Nijholt\\\\OneDrive\\\\Desktop\\\\Scientific Data Analaysis Uva Course\\\\Project\\\\'\n",
    "filenames = os.listdir(dirname)\n",
    "filenames\n"
   ]
  },
  {
   "cell_type": "code",
   "execution_count": 22,
   "id": "1c6f935f-68a1-402b-85d7-a5671d6c13d7",
   "metadata": {},
   "outputs": [],
   "source": [
    "# Twitter sentiment data about stocks, labeled: 'tweets_labelled_09042020_16072020.csv',\n",
    "# reference to dataset: https://www.kaggle.com/datasets/utkarshxy/stock-markettweets-lexicon-data\n",
    "\n",
    "twitter_sentiment_data_labled = pd.read_csv(dirname + filenames[0], sep=';',error_bad_lines=False )\n",
    "\n",
    "df = twitter_sentiment_data_labled"
   ]
  },
  {
   "cell_type": "code",
   "execution_count": 21,
   "id": "568b8e8e-644a-42b3-b92e-594d9fef6288",
   "metadata": {},
   "outputs": [
    {
     "data": {
      "text/plain": [
       "(5000, 4)"
      ]
     },
     "execution_count": 21,
     "metadata": {},
     "output_type": "execute_result"
    }
   ],
   "source": [
    "twitter_sentiment_data_labled.shape"
   ]
  },
  {
   "cell_type": "code",
   "execution_count": 23,
   "id": "863974d7-6e6f-41b8-8f2c-60217eed609c",
   "metadata": {},
   "outputs": [
    {
     "data": {
      "text/plain": [
       "Index(['id', 'created_at', 'text', 'sentiment'], dtype='object')"
      ]
     },
     "execution_count": 23,
     "metadata": {},
     "output_type": "execute_result"
    }
   ],
   "source": [
    "df.columns"
   ]
  },
  {
   "cell_type": "code",
   "execution_count": null,
   "id": "db13060f-5c77-469a-86f2-ca9c69c96dbe",
   "metadata": {},
   "outputs": [],
   "source": [
    "#data cleaning\n",
    "\n"
   ]
  },
  {
   "cell_type": "code",
   "execution_count": 37,
   "id": "2eb388bb-6536-49c2-987c-96e38f3cc2bb",
   "metadata": {},
   "outputs": [
    {
     "data": {
      "text/html": [
       "<div>\n",
       "<style scoped>\n",
       "    .dataframe tbody tr th:only-of-type {\n",
       "        vertical-align: middle;\n",
       "    }\n",
       "\n",
       "    .dataframe tbody tr th {\n",
       "        vertical-align: top;\n",
       "    }\n",
       "\n",
       "    .dataframe thead th {\n",
       "        text-align: right;\n",
       "    }\n",
       "</style>\n",
       "<table border=\"1\" class=\"dataframe\">\n",
       "  <thead>\n",
       "    <tr style=\"text-align: right;\">\n",
       "      <th></th>\n",
       "      <th>id</th>\n",
       "      <th>created_at</th>\n",
       "      <th>text</th>\n",
       "      <th>sentiment</th>\n",
       "    </tr>\n",
       "  </thead>\n",
       "  <tbody>\n",
       "    <tr>\n",
       "      <th>1300</th>\n",
       "      <td>254563</td>\n",
       "      <td>2020-04-29 01:57:02+00:00</td>\n",
       "      <td>- @investbamboo get $ share on Bamboo then. [ ...</td>\n",
       "      <td>NaN</td>\n",
       "    </tr>\n",
       "    <tr>\n",
       "      <th>1301</th>\n",
       "      <td>280832</td>\n",
       "      <td>2020-05-05 17:58:44+00:00</td>\n",
       "      <td>H&amp;amp;S just formed on 4h chart $spx $spy http...</td>\n",
       "      <td>NaN</td>\n",
       "    </tr>\n",
       "    <tr>\n",
       "      <th>1302</th>\n",
       "      <td>672447</td>\n",
       "      <td>2020-06-26 15:29:14+00:00</td>\n",
       "      <td>@EddyElfenbein what happened to $FB?</td>\n",
       "      <td>NaN</td>\n",
       "    </tr>\n",
       "    <tr>\n",
       "      <th>1303</th>\n",
       "      <td>146759</td>\n",
       "      <td>2020-04-21 11:53:54+00:00</td>\n",
       "      <td>RT @CHItraders: $AAPL expands services busines...</td>\n",
       "      <td>NaN</td>\n",
       "    </tr>\n",
       "    <tr>\n",
       "      <th>1304</th>\n",
       "      <td>116538</td>\n",
       "      <td>2020-04-19 23:34:14+00:00</td>\n",
       "      <td>RT @Lakshmi_888: #SPX $SPX #ES_F $NQ $RUT #DAX...</td>\n",
       "      <td>NaN</td>\n",
       "    </tr>\n",
       "    <tr>\n",
       "      <th>...</th>\n",
       "      <td>...</td>\n",
       "      <td>...</td>\n",
       "      <td>...</td>\n",
       "      <td>...</td>\n",
       "    </tr>\n",
       "    <tr>\n",
       "      <th>4995</th>\n",
       "      <td>411380</td>\n",
       "      <td>2020-06-04 18:14:57+00:00</td>\n",
       "      <td>With ad revenues falling, what’s the impact on...</td>\n",
       "      <td>NaN</td>\n",
       "    </tr>\n",
       "    <tr>\n",
       "      <th>4996</th>\n",
       "      <td>62318</td>\n",
       "      <td>2020-04-14 02:15:01+00:00</td>\n",
       "      <td>RT @KelvinSCWong: Well another point to add to...</td>\n",
       "      <td>NaN</td>\n",
       "    </tr>\n",
       "    <tr>\n",
       "      <th>4997</th>\n",
       "      <td>627230</td>\n",
       "      <td>2020-06-23 14:08:15+00:00</td>\n",
       "      <td>$ITOX working on a contract with a fortune 500...</td>\n",
       "      <td>NaN</td>\n",
       "    </tr>\n",
       "    <tr>\n",
       "      <th>4998</th>\n",
       "      <td>890123</td>\n",
       "      <td>2020-07-14 23:18:34+00:00</td>\n",
       "      <td>$DIS it could break the 120 pin, then 125&amp;gt; ...</td>\n",
       "      <td>NaN</td>\n",
       "    </tr>\n",
       "    <tr>\n",
       "      <th>4999</th>\n",
       "      <td>301411</td>\n",
       "      <td>2020-05-06 04:22:19+00:00</td>\n",
       "      <td>Amedisys Inc $AMED COO Christopher Gerard Sell...</td>\n",
       "      <td>NaN</td>\n",
       "    </tr>\n",
       "  </tbody>\n",
       "</table>\n",
       "<p>3700 rows × 4 columns</p>\n",
       "</div>"
      ],
      "text/plain": [
       "          id                 created_at  \\\n",
       "1300  254563  2020-04-29 01:57:02+00:00   \n",
       "1301  280832  2020-05-05 17:58:44+00:00   \n",
       "1302  672447  2020-06-26 15:29:14+00:00   \n",
       "1303  146759  2020-04-21 11:53:54+00:00   \n",
       "1304  116538  2020-04-19 23:34:14+00:00   \n",
       "...      ...                        ...   \n",
       "4995  411380  2020-06-04 18:14:57+00:00   \n",
       "4996   62318  2020-04-14 02:15:01+00:00   \n",
       "4997  627230  2020-06-23 14:08:15+00:00   \n",
       "4998  890123  2020-07-14 23:18:34+00:00   \n",
       "4999  301411  2020-05-06 04:22:19+00:00   \n",
       "\n",
       "                                                   text sentiment  \n",
       "1300  - @investbamboo get $ share on Bamboo then. [ ...       NaN  \n",
       "1301  H&amp;S just formed on 4h chart $spx $spy http...       NaN  \n",
       "1302               @EddyElfenbein what happened to $FB?       NaN  \n",
       "1303  RT @CHItraders: $AAPL expands services busines...       NaN  \n",
       "1304  RT @Lakshmi_888: #SPX $SPX #ES_F $NQ $RUT #DAX...       NaN  \n",
       "...                                                 ...       ...  \n",
       "4995  With ad revenues falling, what’s the impact on...       NaN  \n",
       "4996  RT @KelvinSCWong: Well another point to add to...       NaN  \n",
       "4997  $ITOX working on a contract with a fortune 500...       NaN  \n",
       "4998  $DIS it could break the 120 pin, then 125&gt; ...       NaN  \n",
       "4999  Amedisys Inc $AMED COO Christopher Gerard Sell...       NaN  \n",
       "\n",
       "[3700 rows x 4 columns]"
      ]
     },
     "execution_count": 37,
     "metadata": {},
     "output_type": "execute_result"
    }
   ],
   "source": [
    "df[df['sentiment'].isnull()]"
   ]
  },
  {
   "cell_type": "code",
   "execution_count": 43,
   "id": "fb61327b-7f6e-405f-88eb-dd4744eb6393",
   "metadata": {},
   "outputs": [
    {
     "data": {
      "text/html": [
       "<div>\n",
       "<style scoped>\n",
       "    .dataframe tbody tr th:only-of-type {\n",
       "        vertical-align: middle;\n",
       "    }\n",
       "\n",
       "    .dataframe tbody tr th {\n",
       "        vertical-align: top;\n",
       "    }\n",
       "\n",
       "    .dataframe thead th {\n",
       "        text-align: right;\n",
       "    }\n",
       "</style>\n",
       "<table border=\"1\" class=\"dataframe\">\n",
       "  <thead>\n",
       "    <tr style=\"text-align: right;\">\n",
       "      <th></th>\n",
       "      <th>id</th>\n",
       "      <th>created_at</th>\n",
       "      <th>text</th>\n",
       "      <th>sentiment</th>\n",
       "    </tr>\n",
       "  </thead>\n",
       "  <tbody>\n",
       "    <tr>\n",
       "      <th>0</th>\n",
       "      <td>77522</td>\n",
       "      <td>2020-04-15 01:03:46+00:00</td>\n",
       "      <td>RT @RobertBeadles: Yo💥\\nEnter to WIN 1,000 Mon...</td>\n",
       "      <td>positive</td>\n",
       "    </tr>\n",
       "    <tr>\n",
       "      <th>1</th>\n",
       "      <td>661634</td>\n",
       "      <td>2020-06-25 06:20:06+00:00</td>\n",
       "      <td>#SriLanka surcharge on fuel removed!\\n⛽📉\\nThe ...</td>\n",
       "      <td>negative</td>\n",
       "    </tr>\n",
       "    <tr>\n",
       "      <th>2</th>\n",
       "      <td>413231</td>\n",
       "      <td>2020-06-04 15:41:45+00:00</td>\n",
       "      <td>Net issuance increases to fund fiscal programs...</td>\n",
       "      <td>positive</td>\n",
       "    </tr>\n",
       "    <tr>\n",
       "      <th>3</th>\n",
       "      <td>760262</td>\n",
       "      <td>2020-07-03 19:39:35+00:00</td>\n",
       "      <td>RT @bentboolean: How much of Amazon's traffic ...</td>\n",
       "      <td>positive</td>\n",
       "    </tr>\n",
       "    <tr>\n",
       "      <th>4</th>\n",
       "      <td>830153</td>\n",
       "      <td>2020-07-09 14:39:14+00:00</td>\n",
       "      <td>$AMD Ryzen 4000 desktop CPUs looking ‘great’ a...</td>\n",
       "      <td>positive</td>\n",
       "    </tr>\n",
       "    <tr>\n",
       "      <th>...</th>\n",
       "      <td>...</td>\n",
       "      <td>...</td>\n",
       "      <td>...</td>\n",
       "      <td>...</td>\n",
       "    </tr>\n",
       "    <tr>\n",
       "      <th>1295</th>\n",
       "      <td>75519</td>\n",
       "      <td>2020-04-15 06:00:10+00:00</td>\n",
       "      <td>#stocks back from the recovery room: https://t...</td>\n",
       "      <td>positive</td>\n",
       "    </tr>\n",
       "    <tr>\n",
       "      <th>1296</th>\n",
       "      <td>739234</td>\n",
       "      <td>2020-07-01 11:29:10+00:00</td>\n",
       "      <td>RT @MacroCharts: Breadth – expanding last week...</td>\n",
       "      <td>positive</td>\n",
       "    </tr>\n",
       "    <tr>\n",
       "      <th>1297</th>\n",
       "      <td>254379</td>\n",
       "      <td>2020-04-29 02:21:50+00:00</td>\n",
       "      <td>RT @MawsonResource: Rompas-Rajapalot: A Big Ne...</td>\n",
       "      <td>neutral</td>\n",
       "    </tr>\n",
       "    <tr>\n",
       "      <th>1298</th>\n",
       "      <td>580441</td>\n",
       "      <td>2020-06-19 17:56:57+00:00</td>\n",
       "      <td>$AAPL $QQQ Top may now be in. https://t.co/iNK...</td>\n",
       "      <td>positive</td>\n",
       "    </tr>\n",
       "    <tr>\n",
       "      <th>1299</th>\n",
       "      <td>625070</td>\n",
       "      <td>2020-06-23 15:47:11+00:00</td>\n",
       "      <td>GLG Partners LP short position in HILTON FOOD ...</td>\n",
       "      <td>negative</td>\n",
       "    </tr>\n",
       "  </tbody>\n",
       "</table>\n",
       "<p>1300 rows × 4 columns</p>\n",
       "</div>"
      ],
      "text/plain": [
       "          id                 created_at  \\\n",
       "0      77522  2020-04-15 01:03:46+00:00   \n",
       "1     661634  2020-06-25 06:20:06+00:00   \n",
       "2     413231  2020-06-04 15:41:45+00:00   \n",
       "3     760262  2020-07-03 19:39:35+00:00   \n",
       "4     830153  2020-07-09 14:39:14+00:00   \n",
       "...      ...                        ...   \n",
       "1295   75519  2020-04-15 06:00:10+00:00   \n",
       "1296  739234  2020-07-01 11:29:10+00:00   \n",
       "1297  254379  2020-04-29 02:21:50+00:00   \n",
       "1298  580441  2020-06-19 17:56:57+00:00   \n",
       "1299  625070  2020-06-23 15:47:11+00:00   \n",
       "\n",
       "                                                   text sentiment  \n",
       "0     RT @RobertBeadles: Yo💥\\nEnter to WIN 1,000 Mon...  positive  \n",
       "1     #SriLanka surcharge on fuel removed!\\n⛽📉\\nThe ...  negative  \n",
       "2     Net issuance increases to fund fiscal programs...  positive  \n",
       "3     RT @bentboolean: How much of Amazon's traffic ...  positive  \n",
       "4     $AMD Ryzen 4000 desktop CPUs looking ‘great’ a...  positive  \n",
       "...                                                 ...       ...  \n",
       "1295  #stocks back from the recovery room: https://t...  positive  \n",
       "1296  RT @MacroCharts: Breadth – expanding last week...  positive  \n",
       "1297  RT @MawsonResource: Rompas-Rajapalot: A Big Ne...   neutral  \n",
       "1298  $AAPL $QQQ Top may now be in. https://t.co/iNK...  positive  \n",
       "1299  GLG Partners LP short position in HILTON FOOD ...  negative  \n",
       "\n",
       "[1300 rows x 4 columns]"
      ]
     },
     "execution_count": 43,
     "metadata": {},
     "output_type": "execute_result"
    }
   ],
   "source": [
    "df[df['sentiment'].notnull()]\n"
   ]
  },
  {
   "cell_type": "markdown",
   "id": "2948a65c-eaf0-4c22-bb0f-321ce4ad8393",
   "metadata": {},
   "source": [
    "We can see the first 1300 rows have sentiment data, so we quantify the sentiment data for only these rows"
   ]
  },
  {
   "cell_type": "code",
   "execution_count": 40,
   "id": "1dc5c39f-e4e1-4ecd-a6ea-d7fbbe9718c2",
   "metadata": {},
   "outputs": [],
   "source": [
    "subset_data_with_sentiment = df.iloc[0:1300]"
   ]
  },
  {
   "cell_type": "code",
   "execution_count": 42,
   "id": "b42553f1-9f12-4622-8c12-4a201fe7fe87",
   "metadata": {},
   "outputs": [],
   "source": [
    "subset_data_with_sentiment.shape\n",
    "df = subset_data_with_sentiment\n",
    "# shape looks good"
   ]
  },
  {
   "cell_type": "code",
   "execution_count": 38,
   "id": "6ebcabcf-3884-4cb0-9589-a731d0e8c382",
   "metadata": {},
   "outputs": [],
   "source": [
    "#positive\n",
    "\n",
    "list_of_sentiment = []\n",
    "list_of_rows_without_sentiment =[]\n",
    "for i in df[ 'sentiment']:\n",
    "    if i == 'positive':\n",
    "        list_of_sentiment.append(1)\n",
    "    if i == 'neutral':\n",
    "        list_of_sentiment.append(0)\n",
    "    if i == 'negative':\n",
    "        list_of_sentiment.append(-1)\n",
    "    \n",
    "        \n",
    "\n"
   ]
  },
  {
   "cell_type": "code",
   "execution_count": 44,
   "id": "7076bb1c-ec3b-413a-8148-5471e5fcc671",
   "metadata": {},
   "outputs": [
    {
     "name": "stderr",
     "output_type": "stream",
     "text": [
      "<ipython-input-44-752bd2b4f3e5>:1: SettingWithCopyWarning: \n",
      "A value is trying to be set on a copy of a slice from a DataFrame.\n",
      "Try using .loc[row_indexer,col_indexer] = value instead\n",
      "\n",
      "See the caveats in the documentation: https://pandas.pydata.org/pandas-docs/stable/user_guide/indexing.html#returning-a-view-versus-a-copy\n",
      "  df['quantitative sentiment'] = list_of_sentiment\n"
     ]
    }
   ],
   "source": [
    "df['quantitative sentiment'] = list_of_sentiment"
   ]
  },
  {
   "cell_type": "code",
   "execution_count": 45,
   "id": "ffee5c62-6919-4847-aae8-3faa68a003a3",
   "metadata": {},
   "outputs": [
    {
     "data": {
      "text/html": [
       "<div>\n",
       "<style scoped>\n",
       "    .dataframe tbody tr th:only-of-type {\n",
       "        vertical-align: middle;\n",
       "    }\n",
       "\n",
       "    .dataframe tbody tr th {\n",
       "        vertical-align: top;\n",
       "    }\n",
       "\n",
       "    .dataframe thead th {\n",
       "        text-align: right;\n",
       "    }\n",
       "</style>\n",
       "<table border=\"1\" class=\"dataframe\">\n",
       "  <thead>\n",
       "    <tr style=\"text-align: right;\">\n",
       "      <th></th>\n",
       "      <th>id</th>\n",
       "      <th>created_at</th>\n",
       "      <th>text</th>\n",
       "      <th>sentiment</th>\n",
       "      <th>quantitative sentiment</th>\n",
       "    </tr>\n",
       "  </thead>\n",
       "  <tbody>\n",
       "    <tr>\n",
       "      <th>0</th>\n",
       "      <td>77522</td>\n",
       "      <td>2020-04-15 01:03:46+00:00</td>\n",
       "      <td>RT @RobertBeadles: Yo💥\\nEnter to WIN 1,000 Mon...</td>\n",
       "      <td>positive</td>\n",
       "      <td>1</td>\n",
       "    </tr>\n",
       "    <tr>\n",
       "      <th>1</th>\n",
       "      <td>661634</td>\n",
       "      <td>2020-06-25 06:20:06+00:00</td>\n",
       "      <td>#SriLanka surcharge on fuel removed!\\n⛽📉\\nThe ...</td>\n",
       "      <td>negative</td>\n",
       "      <td>-1</td>\n",
       "    </tr>\n",
       "    <tr>\n",
       "      <th>2</th>\n",
       "      <td>413231</td>\n",
       "      <td>2020-06-04 15:41:45+00:00</td>\n",
       "      <td>Net issuance increases to fund fiscal programs...</td>\n",
       "      <td>positive</td>\n",
       "      <td>1</td>\n",
       "    </tr>\n",
       "    <tr>\n",
       "      <th>3</th>\n",
       "      <td>760262</td>\n",
       "      <td>2020-07-03 19:39:35+00:00</td>\n",
       "      <td>RT @bentboolean: How much of Amazon's traffic ...</td>\n",
       "      <td>positive</td>\n",
       "      <td>1</td>\n",
       "    </tr>\n",
       "    <tr>\n",
       "      <th>4</th>\n",
       "      <td>830153</td>\n",
       "      <td>2020-07-09 14:39:14+00:00</td>\n",
       "      <td>$AMD Ryzen 4000 desktop CPUs looking ‘great’ a...</td>\n",
       "      <td>positive</td>\n",
       "      <td>1</td>\n",
       "    </tr>\n",
       "    <tr>\n",
       "      <th>...</th>\n",
       "      <td>...</td>\n",
       "      <td>...</td>\n",
       "      <td>...</td>\n",
       "      <td>...</td>\n",
       "      <td>...</td>\n",
       "    </tr>\n",
       "    <tr>\n",
       "      <th>1295</th>\n",
       "      <td>75519</td>\n",
       "      <td>2020-04-15 06:00:10+00:00</td>\n",
       "      <td>#stocks back from the recovery room: https://t...</td>\n",
       "      <td>positive</td>\n",
       "      <td>1</td>\n",
       "    </tr>\n",
       "    <tr>\n",
       "      <th>1296</th>\n",
       "      <td>739234</td>\n",
       "      <td>2020-07-01 11:29:10+00:00</td>\n",
       "      <td>RT @MacroCharts: Breadth – expanding last week...</td>\n",
       "      <td>positive</td>\n",
       "      <td>1</td>\n",
       "    </tr>\n",
       "    <tr>\n",
       "      <th>1297</th>\n",
       "      <td>254379</td>\n",
       "      <td>2020-04-29 02:21:50+00:00</td>\n",
       "      <td>RT @MawsonResource: Rompas-Rajapalot: A Big Ne...</td>\n",
       "      <td>neutral</td>\n",
       "      <td>0</td>\n",
       "    </tr>\n",
       "    <tr>\n",
       "      <th>1298</th>\n",
       "      <td>580441</td>\n",
       "      <td>2020-06-19 17:56:57+00:00</td>\n",
       "      <td>$AAPL $QQQ Top may now be in. https://t.co/iNK...</td>\n",
       "      <td>positive</td>\n",
       "      <td>1</td>\n",
       "    </tr>\n",
       "    <tr>\n",
       "      <th>1299</th>\n",
       "      <td>625070</td>\n",
       "      <td>2020-06-23 15:47:11+00:00</td>\n",
       "      <td>GLG Partners LP short position in HILTON FOOD ...</td>\n",
       "      <td>negative</td>\n",
       "      <td>-1</td>\n",
       "    </tr>\n",
       "  </tbody>\n",
       "</table>\n",
       "<p>1300 rows × 5 columns</p>\n",
       "</div>"
      ],
      "text/plain": [
       "          id                 created_at  \\\n",
       "0      77522  2020-04-15 01:03:46+00:00   \n",
       "1     661634  2020-06-25 06:20:06+00:00   \n",
       "2     413231  2020-06-04 15:41:45+00:00   \n",
       "3     760262  2020-07-03 19:39:35+00:00   \n",
       "4     830153  2020-07-09 14:39:14+00:00   \n",
       "...      ...                        ...   \n",
       "1295   75519  2020-04-15 06:00:10+00:00   \n",
       "1296  739234  2020-07-01 11:29:10+00:00   \n",
       "1297  254379  2020-04-29 02:21:50+00:00   \n",
       "1298  580441  2020-06-19 17:56:57+00:00   \n",
       "1299  625070  2020-06-23 15:47:11+00:00   \n",
       "\n",
       "                                                   text sentiment  \\\n",
       "0     RT @RobertBeadles: Yo💥\\nEnter to WIN 1,000 Mon...  positive   \n",
       "1     #SriLanka surcharge on fuel removed!\\n⛽📉\\nThe ...  negative   \n",
       "2     Net issuance increases to fund fiscal programs...  positive   \n",
       "3     RT @bentboolean: How much of Amazon's traffic ...  positive   \n",
       "4     $AMD Ryzen 4000 desktop CPUs looking ‘great’ a...  positive   \n",
       "...                                                 ...       ...   \n",
       "1295  #stocks back from the recovery room: https://t...  positive   \n",
       "1296  RT @MacroCharts: Breadth – expanding last week...  positive   \n",
       "1297  RT @MawsonResource: Rompas-Rajapalot: A Big Ne...   neutral   \n",
       "1298  $AAPL $QQQ Top may now be in. https://t.co/iNK...  positive   \n",
       "1299  GLG Partners LP short position in HILTON FOOD ...  negative   \n",
       "\n",
       "      quantitative sentiment  \n",
       "0                          1  \n",
       "1                         -1  \n",
       "2                          1  \n",
       "3                          1  \n",
       "4                          1  \n",
       "...                      ...  \n",
       "1295                       1  \n",
       "1296                       1  \n",
       "1297                       0  \n",
       "1298                       1  \n",
       "1299                      -1  \n",
       "\n",
       "[1300 rows x 5 columns]"
      ]
     },
     "execution_count": 45,
     "metadata": {},
     "output_type": "execute_result"
    }
   ],
   "source": [
    "df"
   ]
  },
  {
   "cell_type": "code",
   "execution_count": null,
   "id": "08e19447-ba2c-436b-973c-93d99ad942ae",
   "metadata": {},
   "outputs": [],
   "source": [
    "pyplot"
   ]
  },
  {
   "cell_type": "code",
   "execution_count": 27,
   "id": "461703ec-ee7f-47c0-9fa1-4664836073c3",
   "metadata": {},
   "outputs": [
    {
     "ename": "ValueError",
     "evalue": "Length of values (1300) does not match length of index (5000)",
     "output_type": "error",
     "traceback": [
      "\u001b[1;31m---------------------------------------------------------------------------\u001b[0m",
      "\u001b[1;31mValueError\u001b[0m                                Traceback (most recent call last)",
      "\u001b[1;32m<ipython-input-27-752bd2b4f3e5>\u001b[0m in \u001b[0;36m<module>\u001b[1;34m\u001b[0m\n\u001b[1;32m----> 1\u001b[1;33m \u001b[0mdf\u001b[0m\u001b[1;33m[\u001b[0m\u001b[1;34m'quantitative sentiment'\u001b[0m\u001b[1;33m]\u001b[0m \u001b[1;33m=\u001b[0m \u001b[0mlist_of_sentiment\u001b[0m\u001b[1;33m\u001b[0m\u001b[1;33m\u001b[0m\u001b[0m\n\u001b[0m",
      "\u001b[1;32m~\\anaconda3\\lib\\site-packages\\pandas\\core\\frame.py\u001b[0m in \u001b[0;36m__setitem__\u001b[1;34m(self, key, value)\u001b[0m\n\u001b[0;32m   3161\u001b[0m         \u001b[1;32melse\u001b[0m\u001b[1;33m:\u001b[0m\u001b[1;33m\u001b[0m\u001b[1;33m\u001b[0m\u001b[0m\n\u001b[0;32m   3162\u001b[0m             \u001b[1;31m# set column\u001b[0m\u001b[1;33m\u001b[0m\u001b[1;33m\u001b[0m\u001b[1;33m\u001b[0m\u001b[0m\n\u001b[1;32m-> 3163\u001b[1;33m             \u001b[0mself\u001b[0m\u001b[1;33m.\u001b[0m\u001b[0m_set_item\u001b[0m\u001b[1;33m(\u001b[0m\u001b[0mkey\u001b[0m\u001b[1;33m,\u001b[0m \u001b[0mvalue\u001b[0m\u001b[1;33m)\u001b[0m\u001b[1;33m\u001b[0m\u001b[1;33m\u001b[0m\u001b[0m\n\u001b[0m\u001b[0;32m   3164\u001b[0m \u001b[1;33m\u001b[0m\u001b[0m\n\u001b[0;32m   3165\u001b[0m     \u001b[1;32mdef\u001b[0m \u001b[0m_setitem_slice\u001b[0m\u001b[1;33m(\u001b[0m\u001b[0mself\u001b[0m\u001b[1;33m,\u001b[0m \u001b[0mkey\u001b[0m\u001b[1;33m:\u001b[0m \u001b[0mslice\u001b[0m\u001b[1;33m,\u001b[0m \u001b[0mvalue\u001b[0m\u001b[1;33m)\u001b[0m\u001b[1;33m:\u001b[0m\u001b[1;33m\u001b[0m\u001b[1;33m\u001b[0m\u001b[0m\n",
      "\u001b[1;32m~\\anaconda3\\lib\\site-packages\\pandas\\core\\frame.py\u001b[0m in \u001b[0;36m_set_item\u001b[1;34m(self, key, value)\u001b[0m\n\u001b[0;32m   3240\u001b[0m         \"\"\"\n\u001b[0;32m   3241\u001b[0m         \u001b[0mself\u001b[0m\u001b[1;33m.\u001b[0m\u001b[0m_ensure_valid_index\u001b[0m\u001b[1;33m(\u001b[0m\u001b[0mvalue\u001b[0m\u001b[1;33m)\u001b[0m\u001b[1;33m\u001b[0m\u001b[1;33m\u001b[0m\u001b[0m\n\u001b[1;32m-> 3242\u001b[1;33m         \u001b[0mvalue\u001b[0m \u001b[1;33m=\u001b[0m \u001b[0mself\u001b[0m\u001b[1;33m.\u001b[0m\u001b[0m_sanitize_column\u001b[0m\u001b[1;33m(\u001b[0m\u001b[0mkey\u001b[0m\u001b[1;33m,\u001b[0m \u001b[0mvalue\u001b[0m\u001b[1;33m)\u001b[0m\u001b[1;33m\u001b[0m\u001b[1;33m\u001b[0m\u001b[0m\n\u001b[0m\u001b[0;32m   3243\u001b[0m         \u001b[0mNDFrame\u001b[0m\u001b[1;33m.\u001b[0m\u001b[0m_set_item\u001b[0m\u001b[1;33m(\u001b[0m\u001b[0mself\u001b[0m\u001b[1;33m,\u001b[0m \u001b[0mkey\u001b[0m\u001b[1;33m,\u001b[0m \u001b[0mvalue\u001b[0m\u001b[1;33m)\u001b[0m\u001b[1;33m\u001b[0m\u001b[1;33m\u001b[0m\u001b[0m\n\u001b[0;32m   3244\u001b[0m \u001b[1;33m\u001b[0m\u001b[0m\n",
      "\u001b[1;32m~\\anaconda3\\lib\\site-packages\\pandas\\core\\frame.py\u001b[0m in \u001b[0;36m_sanitize_column\u001b[1;34m(self, key, value, broadcast)\u001b[0m\n\u001b[0;32m   3897\u001b[0m \u001b[1;33m\u001b[0m\u001b[0m\n\u001b[0;32m   3898\u001b[0m             \u001b[1;31m# turn me into an ndarray\u001b[0m\u001b[1;33m\u001b[0m\u001b[1;33m\u001b[0m\u001b[1;33m\u001b[0m\u001b[0m\n\u001b[1;32m-> 3899\u001b[1;33m             \u001b[0mvalue\u001b[0m \u001b[1;33m=\u001b[0m \u001b[0msanitize_index\u001b[0m\u001b[1;33m(\u001b[0m\u001b[0mvalue\u001b[0m\u001b[1;33m,\u001b[0m \u001b[0mself\u001b[0m\u001b[1;33m.\u001b[0m\u001b[0mindex\u001b[0m\u001b[1;33m)\u001b[0m\u001b[1;33m\u001b[0m\u001b[1;33m\u001b[0m\u001b[0m\n\u001b[0m\u001b[0;32m   3900\u001b[0m             \u001b[1;32mif\u001b[0m \u001b[1;32mnot\u001b[0m \u001b[0misinstance\u001b[0m\u001b[1;33m(\u001b[0m\u001b[0mvalue\u001b[0m\u001b[1;33m,\u001b[0m \u001b[1;33m(\u001b[0m\u001b[0mnp\u001b[0m\u001b[1;33m.\u001b[0m\u001b[0mndarray\u001b[0m\u001b[1;33m,\u001b[0m \u001b[0mIndex\u001b[0m\u001b[1;33m)\u001b[0m\u001b[1;33m)\u001b[0m\u001b[1;33m:\u001b[0m\u001b[1;33m\u001b[0m\u001b[1;33m\u001b[0m\u001b[0m\n\u001b[0;32m   3901\u001b[0m                 \u001b[1;32mif\u001b[0m \u001b[0misinstance\u001b[0m\u001b[1;33m(\u001b[0m\u001b[0mvalue\u001b[0m\u001b[1;33m,\u001b[0m \u001b[0mlist\u001b[0m\u001b[1;33m)\u001b[0m \u001b[1;32mand\u001b[0m \u001b[0mlen\u001b[0m\u001b[1;33m(\u001b[0m\u001b[0mvalue\u001b[0m\u001b[1;33m)\u001b[0m \u001b[1;33m>\u001b[0m \u001b[1;36m0\u001b[0m\u001b[1;33m:\u001b[0m\u001b[1;33m\u001b[0m\u001b[1;33m\u001b[0m\u001b[0m\n",
      "\u001b[1;32m~\\anaconda3\\lib\\site-packages\\pandas\\core\\internals\\construction.py\u001b[0m in \u001b[0;36msanitize_index\u001b[1;34m(data, index)\u001b[0m\n\u001b[0;32m    749\u001b[0m     \"\"\"\n\u001b[0;32m    750\u001b[0m     \u001b[1;32mif\u001b[0m \u001b[0mlen\u001b[0m\u001b[1;33m(\u001b[0m\u001b[0mdata\u001b[0m\u001b[1;33m)\u001b[0m \u001b[1;33m!=\u001b[0m \u001b[0mlen\u001b[0m\u001b[1;33m(\u001b[0m\u001b[0mindex\u001b[0m\u001b[1;33m)\u001b[0m\u001b[1;33m:\u001b[0m\u001b[1;33m\u001b[0m\u001b[1;33m\u001b[0m\u001b[0m\n\u001b[1;32m--> 751\u001b[1;33m         raise ValueError(\n\u001b[0m\u001b[0;32m    752\u001b[0m             \u001b[1;34m\"Length of values \"\u001b[0m\u001b[1;33m\u001b[0m\u001b[1;33m\u001b[0m\u001b[0m\n\u001b[0;32m    753\u001b[0m             \u001b[1;34mf\"({len(data)}) \"\u001b[0m\u001b[1;33m\u001b[0m\u001b[1;33m\u001b[0m\u001b[0m\n",
      "\u001b[1;31mValueError\u001b[0m: Length of values (1300) does not match length of index (5000)"
     ]
    }
   ],
   "source": [
    "df['quantitative sentiment'] = list_of_sentiment"
   ]
  }
 ],
 "metadata": {
  "kernelspec": {
   "display_name": "Python 3.10.6 64-bit",
   "language": "python",
   "name": "python3"
  },
  "language_info": {
   "codemirror_mode": {
    "name": "ipython",
    "version": 3
   },
   "file_extension": ".py",
   "mimetype": "text/x-python",
   "name": "python",
   "nbconvert_exporter": "python",
   "pygments_lexer": "ipython3",
   "version": "3.10.6"
  },
  "vscode": {
   "interpreter": {
    "hash": "916dbcbb3f70747c44a77c7bcd40155683ae19c65e1c03b4aa3499c5328201f1"
   }
  }
 },
 "nbformat": 4,
 "nbformat_minor": 5
}
