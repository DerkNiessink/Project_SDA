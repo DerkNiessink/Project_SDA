{
 "cells": [
  {
   "cell_type": "markdown",
   "id": "b40333aa-be73-4350-bbee-e3cd549f0ab7",
   "metadata": {},
   "source": [
    "# SDA: Project\n",
    "\n",
    "**Name**: Nitai Nijholt\n",
    "\n",
    "**Student ID**: 12709018"
   ]
  },
  {
   "cell_type": "code",
   "execution_count": 1,
   "id": "133590d3-d7cb-42b3-9624-d7e5daf602b9",
   "metadata": {},
   "outputs": [],
   "source": [
    "#loading the Twitter sentiment dataset"
   ]
  },
  {
   "cell_type": "code",
   "execution_count": 2,
   "id": "273dde6c-5d1e-45b3-984f-af24c8175fc9",
   "metadata": {},
   "outputs": [],
   "source": [
    "import pandas as pd\n",
    "import numpy as np\n",
    "import sklearn as sk\n",
    "import os\n",
    "import matplotlib.pyplot as plt\n",
    "import datetime\n",
    "import yfinance as yf\n",
    "import sys\n",
    "from statsmodels.graphics.tsaplots import plot_acf, plot_pacf\n",
    "from statsmodels.tsa.api import VAR, VARMAX\n",
    "from scipy.stats import pearsonr\n",
    "from statsmodels.tsa.stattools import adfuller\n",
    "from statsmodels.stats.diagnostic import het_arch"
   ]
  },
  {
   "cell_type": "code",
   "execution_count": 3,
   "id": "e23c6ecc-c43d-4c48-9887-8d5fecc89b5f",
   "metadata": {},
   "outputs": [
    {
     "data": {
      "text/plain": [
       "['companiesmarketcap.com - Companies ranked by Market Cap - CompaniesMarketCap.com.csv',\n",
       " 'tweets_labelled_09042020_16072020.csv',\n",
       " 'tweets_remaining_09042020_16072020.csv',\n",
       " 'us_equities_news_dataset.csv']"
      ]
     },
     "execution_count": 3,
     "metadata": {},
     "output_type": "execute_result"
    }
   ],
   "source": [
    "#returning the filenames\n",
    "\n",
    "dirname = 'C:\\\\Users\\\\Nitai Nijholt\\\\OneDrive\\\\Desktop\\\\Scientific Data Analaysis Uva Course\\\\Project\\\\'\n",
    "filenames = os.listdir(dirname)\n",
    "filenames\n"
   ]
  },
  {
   "cell_type": "code",
   "execution_count": 4,
   "id": "1c6f935f-68a1-402b-85d7-a5671d6c13d7",
   "metadata": {},
   "outputs": [],
   "source": [
    "# Twitter sentiment data about stocks, labeled: 'tweets_labelled_09042020_16072020.csv',\n",
    "# reference to dataset: https://www.kaggle.com/datasets/utkarshxy/stock-markettweets-lexicon-data\n",
    "\n",
    "twitter_sentiment_data_labled = pd.read_csv(dirname + filenames[1], sep=';',error_bad_lines=False )\n",
    "\n",
    "df = twitter_sentiment_data_labled"
   ]
  },
  {
   "cell_type": "code",
   "execution_count": 5,
   "id": "568b8e8e-644a-42b3-b92e-594d9fef6288",
   "metadata": {},
   "outputs": [
    {
     "data": {
      "text/plain": [
       "(5000, 4)"
      ]
     },
     "execution_count": 5,
     "metadata": {},
     "output_type": "execute_result"
    }
   ],
   "source": [
    "twitter_sentiment_data_labled.shape"
   ]
  },
  {
   "cell_type": "code",
   "execution_count": 6,
   "id": "863974d7-6e6f-41b8-8f2c-60217eed609c",
   "metadata": {},
   "outputs": [
    {
     "data": {
      "text/plain": [
       "Index(['id', 'created_at', 'text', 'sentiment'], dtype='object')"
      ]
     },
     "execution_count": 6,
     "metadata": {},
     "output_type": "execute_result"
    }
   ],
   "source": [
    "df.columns"
   ]
  },
  {
   "cell_type": "code",
   "execution_count": 7,
   "id": "db13060f-5c77-469a-86f2-ca9c69c96dbe",
   "metadata": {},
   "outputs": [],
   "source": [
    "#data cleaning\n",
    "\n"
   ]
  },
  {
   "cell_type": "code",
   "execution_count": 8,
   "id": "2eb388bb-6536-49c2-987c-96e38f3cc2bb",
   "metadata": {},
   "outputs": [
    {
     "data": {
      "text/html": [
       "<div>\n",
       "<style scoped>\n",
       "    .dataframe tbody tr th:only-of-type {\n",
       "        vertical-align: middle;\n",
       "    }\n",
       "\n",
       "    .dataframe tbody tr th {\n",
       "        vertical-align: top;\n",
       "    }\n",
       "\n",
       "    .dataframe thead th {\n",
       "        text-align: right;\n",
       "    }\n",
       "</style>\n",
       "<table border=\"1\" class=\"dataframe\">\n",
       "  <thead>\n",
       "    <tr style=\"text-align: right;\">\n",
       "      <th></th>\n",
       "      <th>id</th>\n",
       "      <th>created_at</th>\n",
       "      <th>text</th>\n",
       "      <th>sentiment</th>\n",
       "    </tr>\n",
       "  </thead>\n",
       "  <tbody>\n",
       "    <tr>\n",
       "      <th>1300</th>\n",
       "      <td>254563</td>\n",
       "      <td>2020-04-29 01:57:02+00:00</td>\n",
       "      <td>- @investbamboo get $ share on Bamboo then. [ ...</td>\n",
       "      <td>NaN</td>\n",
       "    </tr>\n",
       "    <tr>\n",
       "      <th>1301</th>\n",
       "      <td>280832</td>\n",
       "      <td>2020-05-05 17:58:44+00:00</td>\n",
       "      <td>H&amp;amp;S just formed on 4h chart $spx $spy http...</td>\n",
       "      <td>NaN</td>\n",
       "    </tr>\n",
       "    <tr>\n",
       "      <th>1302</th>\n",
       "      <td>672447</td>\n",
       "      <td>2020-06-26 15:29:14+00:00</td>\n",
       "      <td>@EddyElfenbein what happened to $FB?</td>\n",
       "      <td>NaN</td>\n",
       "    </tr>\n",
       "    <tr>\n",
       "      <th>1303</th>\n",
       "      <td>146759</td>\n",
       "      <td>2020-04-21 11:53:54+00:00</td>\n",
       "      <td>RT @CHItraders: $AAPL expands services busines...</td>\n",
       "      <td>NaN</td>\n",
       "    </tr>\n",
       "    <tr>\n",
       "      <th>1304</th>\n",
       "      <td>116538</td>\n",
       "      <td>2020-04-19 23:34:14+00:00</td>\n",
       "      <td>RT @Lakshmi_888: #SPX $SPX #ES_F $NQ $RUT #DAX...</td>\n",
       "      <td>NaN</td>\n",
       "    </tr>\n",
       "    <tr>\n",
       "      <th>...</th>\n",
       "      <td>...</td>\n",
       "      <td>...</td>\n",
       "      <td>...</td>\n",
       "      <td>...</td>\n",
       "    </tr>\n",
       "    <tr>\n",
       "      <th>4995</th>\n",
       "      <td>411380</td>\n",
       "      <td>2020-06-04 18:14:57+00:00</td>\n",
       "      <td>With ad revenues falling, what’s the impact on...</td>\n",
       "      <td>NaN</td>\n",
       "    </tr>\n",
       "    <tr>\n",
       "      <th>4996</th>\n",
       "      <td>62318</td>\n",
       "      <td>2020-04-14 02:15:01+00:00</td>\n",
       "      <td>RT @KelvinSCWong: Well another point to add to...</td>\n",
       "      <td>NaN</td>\n",
       "    </tr>\n",
       "    <tr>\n",
       "      <th>4997</th>\n",
       "      <td>627230</td>\n",
       "      <td>2020-06-23 14:08:15+00:00</td>\n",
       "      <td>$ITOX working on a contract with a fortune 500...</td>\n",
       "      <td>NaN</td>\n",
       "    </tr>\n",
       "    <tr>\n",
       "      <th>4998</th>\n",
       "      <td>890123</td>\n",
       "      <td>2020-07-14 23:18:34+00:00</td>\n",
       "      <td>$DIS it could break the 120 pin, then 125&amp;gt; ...</td>\n",
       "      <td>NaN</td>\n",
       "    </tr>\n",
       "    <tr>\n",
       "      <th>4999</th>\n",
       "      <td>301411</td>\n",
       "      <td>2020-05-06 04:22:19+00:00</td>\n",
       "      <td>Amedisys Inc $AMED COO Christopher Gerard Sell...</td>\n",
       "      <td>NaN</td>\n",
       "    </tr>\n",
       "  </tbody>\n",
       "</table>\n",
       "<p>3700 rows × 4 columns</p>\n",
       "</div>"
      ],
      "text/plain": [
       "          id                 created_at  \\\n",
       "1300  254563  2020-04-29 01:57:02+00:00   \n",
       "1301  280832  2020-05-05 17:58:44+00:00   \n",
       "1302  672447  2020-06-26 15:29:14+00:00   \n",
       "1303  146759  2020-04-21 11:53:54+00:00   \n",
       "1304  116538  2020-04-19 23:34:14+00:00   \n",
       "...      ...                        ...   \n",
       "4995  411380  2020-06-04 18:14:57+00:00   \n",
       "4996   62318  2020-04-14 02:15:01+00:00   \n",
       "4997  627230  2020-06-23 14:08:15+00:00   \n",
       "4998  890123  2020-07-14 23:18:34+00:00   \n",
       "4999  301411  2020-05-06 04:22:19+00:00   \n",
       "\n",
       "                                                   text sentiment  \n",
       "1300  - @investbamboo get $ share on Bamboo then. [ ...       NaN  \n",
       "1301  H&amp;S just formed on 4h chart $spx $spy http...       NaN  \n",
       "1302               @EddyElfenbein what happened to $FB?       NaN  \n",
       "1303  RT @CHItraders: $AAPL expands services busines...       NaN  \n",
       "1304  RT @Lakshmi_888: #SPX $SPX #ES_F $NQ $RUT #DAX...       NaN  \n",
       "...                                                 ...       ...  \n",
       "4995  With ad revenues falling, what’s the impact on...       NaN  \n",
       "4996  RT @KelvinSCWong: Well another point to add to...       NaN  \n",
       "4997  $ITOX working on a contract with a fortune 500...       NaN  \n",
       "4998  $DIS it could break the 120 pin, then 125&gt; ...       NaN  \n",
       "4999  Amedisys Inc $AMED COO Christopher Gerard Sell...       NaN  \n",
       "\n",
       "[3700 rows x 4 columns]"
      ]
     },
     "execution_count": 8,
     "metadata": {},
     "output_type": "execute_result"
    }
   ],
   "source": [
    "df[df['sentiment'].isnull()]"
   ]
  },
  {
   "cell_type": "code",
   "execution_count": 9,
   "id": "fb61327b-7f6e-405f-88eb-dd4744eb6393",
   "metadata": {},
   "outputs": [
    {
     "data": {
      "text/html": [
       "<div>\n",
       "<style scoped>\n",
       "    .dataframe tbody tr th:only-of-type {\n",
       "        vertical-align: middle;\n",
       "    }\n",
       "\n",
       "    .dataframe tbody tr th {\n",
       "        vertical-align: top;\n",
       "    }\n",
       "\n",
       "    .dataframe thead th {\n",
       "        text-align: right;\n",
       "    }\n",
       "</style>\n",
       "<table border=\"1\" class=\"dataframe\">\n",
       "  <thead>\n",
       "    <tr style=\"text-align: right;\">\n",
       "      <th></th>\n",
       "      <th>id</th>\n",
       "      <th>created_at</th>\n",
       "      <th>text</th>\n",
       "      <th>sentiment</th>\n",
       "    </tr>\n",
       "  </thead>\n",
       "  <tbody>\n",
       "    <tr>\n",
       "      <th>0</th>\n",
       "      <td>77522</td>\n",
       "      <td>2020-04-15 01:03:46+00:00</td>\n",
       "      <td>RT @RobertBeadles: Yo💥\\nEnter to WIN 1,000 Mon...</td>\n",
       "      <td>positive</td>\n",
       "    </tr>\n",
       "    <tr>\n",
       "      <th>1</th>\n",
       "      <td>661634</td>\n",
       "      <td>2020-06-25 06:20:06+00:00</td>\n",
       "      <td>#SriLanka surcharge on fuel removed!\\n⛽📉\\nThe ...</td>\n",
       "      <td>negative</td>\n",
       "    </tr>\n",
       "    <tr>\n",
       "      <th>2</th>\n",
       "      <td>413231</td>\n",
       "      <td>2020-06-04 15:41:45+00:00</td>\n",
       "      <td>Net issuance increases to fund fiscal programs...</td>\n",
       "      <td>positive</td>\n",
       "    </tr>\n",
       "    <tr>\n",
       "      <th>3</th>\n",
       "      <td>760262</td>\n",
       "      <td>2020-07-03 19:39:35+00:00</td>\n",
       "      <td>RT @bentboolean: How much of Amazon's traffic ...</td>\n",
       "      <td>positive</td>\n",
       "    </tr>\n",
       "    <tr>\n",
       "      <th>4</th>\n",
       "      <td>830153</td>\n",
       "      <td>2020-07-09 14:39:14+00:00</td>\n",
       "      <td>$AMD Ryzen 4000 desktop CPUs looking ‘great’ a...</td>\n",
       "      <td>positive</td>\n",
       "    </tr>\n",
       "    <tr>\n",
       "      <th>...</th>\n",
       "      <td>...</td>\n",
       "      <td>...</td>\n",
       "      <td>...</td>\n",
       "      <td>...</td>\n",
       "    </tr>\n",
       "    <tr>\n",
       "      <th>1295</th>\n",
       "      <td>75519</td>\n",
       "      <td>2020-04-15 06:00:10+00:00</td>\n",
       "      <td>#stocks back from the recovery room: https://t...</td>\n",
       "      <td>positive</td>\n",
       "    </tr>\n",
       "    <tr>\n",
       "      <th>1296</th>\n",
       "      <td>739234</td>\n",
       "      <td>2020-07-01 11:29:10+00:00</td>\n",
       "      <td>RT @MacroCharts: Breadth – expanding last week...</td>\n",
       "      <td>positive</td>\n",
       "    </tr>\n",
       "    <tr>\n",
       "      <th>1297</th>\n",
       "      <td>254379</td>\n",
       "      <td>2020-04-29 02:21:50+00:00</td>\n",
       "      <td>RT @MawsonResource: Rompas-Rajapalot: A Big Ne...</td>\n",
       "      <td>neutral</td>\n",
       "    </tr>\n",
       "    <tr>\n",
       "      <th>1298</th>\n",
       "      <td>580441</td>\n",
       "      <td>2020-06-19 17:56:57+00:00</td>\n",
       "      <td>$AAPL $QQQ Top may now be in. https://t.co/iNK...</td>\n",
       "      <td>positive</td>\n",
       "    </tr>\n",
       "    <tr>\n",
       "      <th>1299</th>\n",
       "      <td>625070</td>\n",
       "      <td>2020-06-23 15:47:11+00:00</td>\n",
       "      <td>GLG Partners LP short position in HILTON FOOD ...</td>\n",
       "      <td>negative</td>\n",
       "    </tr>\n",
       "  </tbody>\n",
       "</table>\n",
       "<p>1300 rows × 4 columns</p>\n",
       "</div>"
      ],
      "text/plain": [
       "          id                 created_at  \\\n",
       "0      77522  2020-04-15 01:03:46+00:00   \n",
       "1     661634  2020-06-25 06:20:06+00:00   \n",
       "2     413231  2020-06-04 15:41:45+00:00   \n",
       "3     760262  2020-07-03 19:39:35+00:00   \n",
       "4     830153  2020-07-09 14:39:14+00:00   \n",
       "...      ...                        ...   \n",
       "1295   75519  2020-04-15 06:00:10+00:00   \n",
       "1296  739234  2020-07-01 11:29:10+00:00   \n",
       "1297  254379  2020-04-29 02:21:50+00:00   \n",
       "1298  580441  2020-06-19 17:56:57+00:00   \n",
       "1299  625070  2020-06-23 15:47:11+00:00   \n",
       "\n",
       "                                                   text sentiment  \n",
       "0     RT @RobertBeadles: Yo💥\\nEnter to WIN 1,000 Mon...  positive  \n",
       "1     #SriLanka surcharge on fuel removed!\\n⛽📉\\nThe ...  negative  \n",
       "2     Net issuance increases to fund fiscal programs...  positive  \n",
       "3     RT @bentboolean: How much of Amazon's traffic ...  positive  \n",
       "4     $AMD Ryzen 4000 desktop CPUs looking ‘great’ a...  positive  \n",
       "...                                                 ...       ...  \n",
       "1295  #stocks back from the recovery room: https://t...  positive  \n",
       "1296  RT @MacroCharts: Breadth – expanding last week...  positive  \n",
       "1297  RT @MawsonResource: Rompas-Rajapalot: A Big Ne...   neutral  \n",
       "1298  $AAPL $QQQ Top may now be in. https://t.co/iNK...  positive  \n",
       "1299  GLG Partners LP short position in HILTON FOOD ...  negative  \n",
       "\n",
       "[1300 rows x 4 columns]"
      ]
     },
     "execution_count": 9,
     "metadata": {},
     "output_type": "execute_result"
    }
   ],
   "source": [
    "df[df['sentiment'].notnull()]\n"
   ]
  },
  {
   "cell_type": "markdown",
   "id": "2948a65c-eaf0-4c22-bb0f-321ce4ad8393",
   "metadata": {},
   "source": [
    "We can see the first 1300 rows have sentiment data, so we quantify the sentiment data for only these rows"
   ]
  },
  {
   "cell_type": "code",
   "execution_count": 10,
   "id": "1dc5c39f-e4e1-4ecd-a6ea-d7fbbe9718c2",
   "metadata": {},
   "outputs": [],
   "source": [
    "subset_data_with_sentiment = df.iloc[0:1300]"
   ]
  },
  {
   "cell_type": "code",
   "execution_count": 11,
   "id": "b42553f1-9f12-4622-8c12-4a201fe7fe87",
   "metadata": {},
   "outputs": [],
   "source": [
    "subset_data_with_sentiment.shape\n",
    "df = subset_data_with_sentiment\n",
    "# shape looks good"
   ]
  },
  {
   "cell_type": "code",
   "execution_count": 12,
   "id": "6ebcabcf-3884-4cb0-9589-a731d0e8c382",
   "metadata": {},
   "outputs": [],
   "source": [
    "#positive\n",
    "\n",
    "list_of_sentiment = []\n",
    "list_of_rows_without_sentiment =[]\n",
    "for i in df[ 'sentiment']:\n",
    "    if i == 'positive':\n",
    "        list_of_sentiment.append(1)\n",
    "    if i == 'neutral':\n",
    "        list_of_sentiment.append(0)\n",
    "    if i == 'negative':\n",
    "        list_of_sentiment.append(-1)\n",
    "    \n",
    "        \n",
    "\n"
   ]
  },
  {
   "cell_type": "code",
   "execution_count": 13,
   "id": "7076bb1c-ec3b-413a-8148-5471e5fcc671",
   "metadata": {},
   "outputs": [
    {
     "name": "stderr",
     "output_type": "stream",
     "text": [
      "<ipython-input-13-752bd2b4f3e5>:1: SettingWithCopyWarning: \n",
      "A value is trying to be set on a copy of a slice from a DataFrame.\n",
      "Try using .loc[row_indexer,col_indexer] = value instead\n",
      "\n",
      "See the caveats in the documentation: https://pandas.pydata.org/pandas-docs/stable/user_guide/indexing.html#returning-a-view-versus-a-copy\n",
      "  df['quantitative sentiment'] = list_of_sentiment\n"
     ]
    }
   ],
   "source": [
    "df['quantitative sentiment'] = list_of_sentiment"
   ]
  },
  {
   "cell_type": "code",
   "execution_count": 14,
   "id": "ffee5c62-6919-4847-aae8-3faa68a003a3",
   "metadata": {},
   "outputs": [
    {
     "data": {
      "text/html": [
       "<div>\n",
       "<style scoped>\n",
       "    .dataframe tbody tr th:only-of-type {\n",
       "        vertical-align: middle;\n",
       "    }\n",
       "\n",
       "    .dataframe tbody tr th {\n",
       "        vertical-align: top;\n",
       "    }\n",
       "\n",
       "    .dataframe thead th {\n",
       "        text-align: right;\n",
       "    }\n",
       "</style>\n",
       "<table border=\"1\" class=\"dataframe\">\n",
       "  <thead>\n",
       "    <tr style=\"text-align: right;\">\n",
       "      <th></th>\n",
       "      <th>id</th>\n",
       "      <th>created_at</th>\n",
       "      <th>text</th>\n",
       "      <th>sentiment</th>\n",
       "      <th>quantitative sentiment</th>\n",
       "    </tr>\n",
       "  </thead>\n",
       "  <tbody>\n",
       "    <tr>\n",
       "      <th>0</th>\n",
       "      <td>77522</td>\n",
       "      <td>2020-04-15 01:03:46+00:00</td>\n",
       "      <td>RT @RobertBeadles: Yo💥\\nEnter to WIN 1,000 Mon...</td>\n",
       "      <td>positive</td>\n",
       "      <td>1</td>\n",
       "    </tr>\n",
       "    <tr>\n",
       "      <th>1</th>\n",
       "      <td>661634</td>\n",
       "      <td>2020-06-25 06:20:06+00:00</td>\n",
       "      <td>#SriLanka surcharge on fuel removed!\\n⛽📉\\nThe ...</td>\n",
       "      <td>negative</td>\n",
       "      <td>-1</td>\n",
       "    </tr>\n",
       "    <tr>\n",
       "      <th>2</th>\n",
       "      <td>413231</td>\n",
       "      <td>2020-06-04 15:41:45+00:00</td>\n",
       "      <td>Net issuance increases to fund fiscal programs...</td>\n",
       "      <td>positive</td>\n",
       "      <td>1</td>\n",
       "    </tr>\n",
       "    <tr>\n",
       "      <th>3</th>\n",
       "      <td>760262</td>\n",
       "      <td>2020-07-03 19:39:35+00:00</td>\n",
       "      <td>RT @bentboolean: How much of Amazon's traffic ...</td>\n",
       "      <td>positive</td>\n",
       "      <td>1</td>\n",
       "    </tr>\n",
       "    <tr>\n",
       "      <th>4</th>\n",
       "      <td>830153</td>\n",
       "      <td>2020-07-09 14:39:14+00:00</td>\n",
       "      <td>$AMD Ryzen 4000 desktop CPUs looking ‘great’ a...</td>\n",
       "      <td>positive</td>\n",
       "      <td>1</td>\n",
       "    </tr>\n",
       "    <tr>\n",
       "      <th>...</th>\n",
       "      <td>...</td>\n",
       "      <td>...</td>\n",
       "      <td>...</td>\n",
       "      <td>...</td>\n",
       "      <td>...</td>\n",
       "    </tr>\n",
       "    <tr>\n",
       "      <th>1295</th>\n",
       "      <td>75519</td>\n",
       "      <td>2020-04-15 06:00:10+00:00</td>\n",
       "      <td>#stocks back from the recovery room: https://t...</td>\n",
       "      <td>positive</td>\n",
       "      <td>1</td>\n",
       "    </tr>\n",
       "    <tr>\n",
       "      <th>1296</th>\n",
       "      <td>739234</td>\n",
       "      <td>2020-07-01 11:29:10+00:00</td>\n",
       "      <td>RT @MacroCharts: Breadth – expanding last week...</td>\n",
       "      <td>positive</td>\n",
       "      <td>1</td>\n",
       "    </tr>\n",
       "    <tr>\n",
       "      <th>1297</th>\n",
       "      <td>254379</td>\n",
       "      <td>2020-04-29 02:21:50+00:00</td>\n",
       "      <td>RT @MawsonResource: Rompas-Rajapalot: A Big Ne...</td>\n",
       "      <td>neutral</td>\n",
       "      <td>0</td>\n",
       "    </tr>\n",
       "    <tr>\n",
       "      <th>1298</th>\n",
       "      <td>580441</td>\n",
       "      <td>2020-06-19 17:56:57+00:00</td>\n",
       "      <td>$AAPL $QQQ Top may now be in. https://t.co/iNK...</td>\n",
       "      <td>positive</td>\n",
       "      <td>1</td>\n",
       "    </tr>\n",
       "    <tr>\n",
       "      <th>1299</th>\n",
       "      <td>625070</td>\n",
       "      <td>2020-06-23 15:47:11+00:00</td>\n",
       "      <td>GLG Partners LP short position in HILTON FOOD ...</td>\n",
       "      <td>negative</td>\n",
       "      <td>-1</td>\n",
       "    </tr>\n",
       "  </tbody>\n",
       "</table>\n",
       "<p>1300 rows × 5 columns</p>\n",
       "</div>"
      ],
      "text/plain": [
       "          id                 created_at  \\\n",
       "0      77522  2020-04-15 01:03:46+00:00   \n",
       "1     661634  2020-06-25 06:20:06+00:00   \n",
       "2     413231  2020-06-04 15:41:45+00:00   \n",
       "3     760262  2020-07-03 19:39:35+00:00   \n",
       "4     830153  2020-07-09 14:39:14+00:00   \n",
       "...      ...                        ...   \n",
       "1295   75519  2020-04-15 06:00:10+00:00   \n",
       "1296  739234  2020-07-01 11:29:10+00:00   \n",
       "1297  254379  2020-04-29 02:21:50+00:00   \n",
       "1298  580441  2020-06-19 17:56:57+00:00   \n",
       "1299  625070  2020-06-23 15:47:11+00:00   \n",
       "\n",
       "                                                   text sentiment  \\\n",
       "0     RT @RobertBeadles: Yo💥\\nEnter to WIN 1,000 Mon...  positive   \n",
       "1     #SriLanka surcharge on fuel removed!\\n⛽📉\\nThe ...  negative   \n",
       "2     Net issuance increases to fund fiscal programs...  positive   \n",
       "3     RT @bentboolean: How much of Amazon's traffic ...  positive   \n",
       "4     $AMD Ryzen 4000 desktop CPUs looking ‘great’ a...  positive   \n",
       "...                                                 ...       ...   \n",
       "1295  #stocks back from the recovery room: https://t...  positive   \n",
       "1296  RT @MacroCharts: Breadth – expanding last week...  positive   \n",
       "1297  RT @MawsonResource: Rompas-Rajapalot: A Big Ne...   neutral   \n",
       "1298  $AAPL $QQQ Top may now be in. https://t.co/iNK...  positive   \n",
       "1299  GLG Partners LP short position in HILTON FOOD ...  negative   \n",
       "\n",
       "      quantitative sentiment  \n",
       "0                          1  \n",
       "1                         -1  \n",
       "2                          1  \n",
       "3                          1  \n",
       "4                          1  \n",
       "...                      ...  \n",
       "1295                       1  \n",
       "1296                       1  \n",
       "1297                       0  \n",
       "1298                       1  \n",
       "1299                      -1  \n",
       "\n",
       "[1300 rows x 5 columns]"
      ]
     },
     "execution_count": 14,
     "metadata": {},
     "output_type": "execute_result"
    }
   ],
   "source": [
    "df"
   ]
  },
  {
   "cell_type": "code",
   "execution_count": 15,
   "id": "68c83284-4122-4d35-80b9-4326e8cd748f",
   "metadata": {},
   "outputs": [],
   "source": [
    "    # FINANCIAL NEWS \n",
    "news = pd.read_csv('C:\\\\Users\\\\Nitai Nijholt\\\\OneDrive\\\\Desktop\\\\Scientific Data Analaysis Uva Course\\\\Project\\\\us_equities_news_dataset.csv')\n",
    "\n",
    "    # TOP 7106 COMPANIES BY MARKET CAP\n",
    "market = pd.read_csv('C:\\\\Users\\\\Nitai Nijholt\\\\OneDrive\\\\Desktop\\\\Scientific Data Analaysis Uva Course\\\\Project\\\\companiesmarketcap.com - Companies ranked by Market Cap - CompaniesMarketCap.com.csv')"
   ]
  },
  {
   "cell_type": "code",
   "execution_count": 16,
   "id": "dd30f990-84f5-4eb9-89a6-326c7696ad31",
   "metadata": {},
   "outputs": [
    {
     "data": {
      "text/html": [
       "<div>\n",
       "<style scoped>\n",
       "    .dataframe tbody tr th:only-of-type {\n",
       "        vertical-align: middle;\n",
       "    }\n",
       "\n",
       "    .dataframe tbody tr th {\n",
       "        vertical-align: top;\n",
       "    }\n",
       "\n",
       "    .dataframe thead th {\n",
       "        text-align: right;\n",
       "    }\n",
       "</style>\n",
       "<table border=\"1\" class=\"dataframe\">\n",
       "  <thead>\n",
       "    <tr style=\"text-align: right;\">\n",
       "      <th></th>\n",
       "      <th>Rank</th>\n",
       "      <th>Symbol</th>\n",
       "      <th>marketcap</th>\n",
       "      <th>Article_n</th>\n",
       "    </tr>\n",
       "  </thead>\n",
       "  <tbody>\n",
       "    <tr>\n",
       "      <th>0</th>\n",
       "      <td>1</td>\n",
       "      <td>AAPL</td>\n",
       "      <td>2245746491392</td>\n",
       "      <td>20231</td>\n",
       "    </tr>\n",
       "    <tr>\n",
       "      <th>1</th>\n",
       "      <td>3</td>\n",
       "      <td>MSFT</td>\n",
       "      <td>1791532859392</td>\n",
       "      <td>8110</td>\n",
       "    </tr>\n",
       "    <tr>\n",
       "      <th>2</th>\n",
       "      <td>5</td>\n",
       "      <td>AMZN</td>\n",
       "      <td>942841135104</td>\n",
       "      <td>6330</td>\n",
       "    </tr>\n",
       "    <tr>\n",
       "      <th>3</th>\n",
       "      <td>7</td>\n",
       "      <td>TSLA</td>\n",
       "      <td>562562130000</td>\n",
       "      <td>4283</td>\n",
       "    </tr>\n",
       "    <tr>\n",
       "      <th>4</th>\n",
       "      <td>8</td>\n",
       "      <td>UNH</td>\n",
       "      <td>493336264704</td>\n",
       "      <td>327</td>\n",
       "    </tr>\n",
       "    <tr>\n",
       "      <th>5</th>\n",
       "      <td>9</td>\n",
       "      <td>JNJ</td>\n",
       "      <td>460383748096</td>\n",
       "      <td>763</td>\n",
       "    </tr>\n",
       "    <tr>\n",
       "      <th>6</th>\n",
       "      <td>10</td>\n",
       "      <td>XOM</td>\n",
       "      <td>455235764224</td>\n",
       "      <td>2831</td>\n",
       "    </tr>\n",
       "    <tr>\n",
       "      <th>7</th>\n",
       "      <td>11</td>\n",
       "      <td>V</td>\n",
       "      <td>442776518656</td>\n",
       "      <td>193</td>\n",
       "    </tr>\n",
       "    <tr>\n",
       "      <th>8</th>\n",
       "      <td>12</td>\n",
       "      <td>WMT</td>\n",
       "      <td>415197298688</td>\n",
       "      <td>1267</td>\n",
       "    </tr>\n",
       "    <tr>\n",
       "      <th>9</th>\n",
       "      <td>14</td>\n",
       "      <td>JPM</td>\n",
       "      <td>400557768704</td>\n",
       "      <td>2600</td>\n",
       "    </tr>\n",
       "    <tr>\n",
       "      <th>10</th>\n",
       "      <td>15</td>\n",
       "      <td>NVDA</td>\n",
       "      <td>389723881472</td>\n",
       "      <td>415</td>\n",
       "    </tr>\n",
       "    <tr>\n",
       "      <th>11</th>\n",
       "      <td>17</td>\n",
       "      <td>CVX</td>\n",
       "      <td>350046846976</td>\n",
       "      <td>1105</td>\n",
       "    </tr>\n",
       "    <tr>\n",
       "      <th>12</th>\n",
       "      <td>19</td>\n",
       "      <td>LLY</td>\n",
       "      <td>345817284608</td>\n",
       "      <td>469</td>\n",
       "    </tr>\n",
       "    <tr>\n",
       "      <th>13</th>\n",
       "      <td>20</td>\n",
       "      <td>PG</td>\n",
       "      <td>344743968768</td>\n",
       "      <td>584</td>\n",
       "    </tr>\n",
       "    <tr>\n",
       "      <th>14</th>\n",
       "      <td>21</td>\n",
       "      <td>MA</td>\n",
       "      <td>329905766400</td>\n",
       "      <td>378</td>\n",
       "    </tr>\n",
       "    <tr>\n",
       "      <th>15</th>\n",
       "      <td>23</td>\n",
       "      <td>HD</td>\n",
       "      <td>322023260160</td>\n",
       "      <td>614</td>\n",
       "    </tr>\n",
       "    <tr>\n",
       "      <th>16</th>\n",
       "      <td>25</td>\n",
       "      <td>BAC</td>\n",
       "      <td>296829911040</td>\n",
       "      <td>7409</td>\n",
       "    </tr>\n",
       "    <tr>\n",
       "      <th>17</th>\n",
       "      <td>29</td>\n",
       "      <td>PFE</td>\n",
       "      <td>277802713088</td>\n",
       "      <td>545</td>\n",
       "    </tr>\n",
       "    <tr>\n",
       "      <th>18</th>\n",
       "      <td>30</td>\n",
       "      <td>MRK</td>\n",
       "      <td>275952926720</td>\n",
       "      <td>575</td>\n",
       "    </tr>\n",
       "    <tr>\n",
       "      <th>19</th>\n",
       "      <td>32</td>\n",
       "      <td>KO</td>\n",
       "      <td>270195392512</td>\n",
       "      <td>1367</td>\n",
       "    </tr>\n",
       "  </tbody>\n",
       "</table>\n",
       "</div>"
      ],
      "text/plain": [
       "    Rank Symbol      marketcap  Article_n\n",
       "0      1   AAPL  2245746491392      20231\n",
       "1      3   MSFT  1791532859392       8110\n",
       "2      5   AMZN   942841135104       6330\n",
       "3      7   TSLA   562562130000       4283\n",
       "4      8    UNH   493336264704        327\n",
       "5      9    JNJ   460383748096        763\n",
       "6     10    XOM   455235764224       2831\n",
       "7     11      V   442776518656        193\n",
       "8     12    WMT   415197298688       1267\n",
       "9     14    JPM   400557768704       2600\n",
       "10    15   NVDA   389723881472        415\n",
       "11    17    CVX   350046846976       1105\n",
       "12    19    LLY   345817284608        469\n",
       "13    20     PG   344743968768        584\n",
       "14    21     MA   329905766400        378\n",
       "15    23     HD   322023260160        614\n",
       "16    25    BAC   296829911040       7409\n",
       "17    29    PFE   277802713088        545\n",
       "18    30    MRK   275952926720        575\n",
       "19    32     KO   270195392512       1367"
      ]
     },
     "execution_count": 16,
     "metadata": {},
     "output_type": "execute_result"
    }
   ],
   "source": [
    "# FIND MOST FREQUENTLY MENTIONED TICKERS\n",
    "tickers = news['ticker'].value_counts()\n",
    "tick_mc = market[['Rank','Symbol','marketcap']]\n",
    "tick_an = pd.DataFrame({'Symbol':list(tickers.index),'Article_n':list(tickers)})\n",
    "# tick_mc_an = tick_mc.merge(tick_an, on = 'Symbol').head(n=20).sort_values(by= 'Article_n', ascending= False)\n",
    "tick_mc_an = tick_mc.merge(tick_an, on = 'Symbol').head(n=20).sort_values(by= 'Rank', ascending= True)\n",
    "tick_mc_an.head(n = 20)\n"
   ]
  },
  {
   "cell_type": "code",
   "execution_count": 17,
   "id": "45fa9505-cfa5-41c3-a722-0a4af2b95d1d",
   "metadata": {},
   "outputs": [
    {
     "data": {
      "image/png": "[encoded data removed]",
      "text/plain": [
       "<Figure size 432x288 with 1 Axes>"
      ]
     },
     "metadata": {
      "needs_background": "light"
     },
     "output_type": "display_data"
    }
   ],
   "source": [
    "apple_data = news[news['ticker'] == 'AAPL']\n",
    "plt.hist(apple_data['release_date'])\n",
    "plt.xticks()\n",
    "\n",
    "max(apple_data['release_date'])[8:10]\n",
    "date_max = datetime.date(int(max(apple_data['release_date'])[0:4]),int(max(apple_data['release_date'])[5:7]),int(max(apple_data['release_date'])[8:10]))\n",
    "date_min = datetime.date(int(min(apple_data['release_date'])[0:4]),int(min(apple_data['release_date'])[5:7]),int(min(apple_data['release_date'])[8:10]))"
   ]
  },
  {
   "cell_type": "code",
   "execution_count": 18,
   "id": "bab85a07-a19f-4d0b-8b10-b26a53dc11bd",
   "metadata": {},
   "outputs": [
    {
     "data": {
      "text/plain": [
       "0     AAPL\n",
       "1     MSFT\n",
       "2     AMZN\n",
       "3     TSLA\n",
       "4      UNH\n",
       "5      JNJ\n",
       "6      XOM\n",
       "7        V\n",
       "8      WMT\n",
       "9      JPM\n",
       "10    NVDA\n",
       "Name: Symbol, dtype: object"
      ]
     },
     "execution_count": 18,
     "metadata": {},
     "output_type": "execute_result"
    }
   ],
   "source": [
    "top_10_ranked_stocks_by_marketcap = tick_mc_an.loc[0:10, \"Symbol\"]\n",
    "top_10_ranked_stocks_by_marketcap"
   ]
  },
  {
   "cell_type": "code",
   "execution_count": 30,
   "id": "534cf695-b41c-44f7-a96a-441d5856e913",
   "metadata": {},
   "outputs": [],
   "source": [
    "top_10_ranked_stocks_by_marketcap_str = top_10_ranked_stocks_by_marketcap.astype(str).values.tolist()"
   ]
  },
  {
   "cell_type": "code",
   "execution_count": 28,
   "id": "cd0fb76c-ac52-454b-bc36-755dd8e93f33",
   "metadata": {},
   "outputs": [
    {
     "data": {
      "text/plain": [
       "'AAPL'"
      ]
     },
     "execution_count": 28,
     "metadata": {},
     "output_type": "execute_result"
    }
   ],
   "source": [
    "top_10_ranked_stocks_by_marketcap_str[0]"
   ]
  },
  {
   "cell_type": "code",
   "execution_count": 21,
   "id": "8a7344be-c63b-4421-88bd-83ca040c2cce",
   "metadata": {},
   "outputs": [],
   "source": [
    "msft = yf.Ticker(\"MSFT\")"
   ]
  },
  {
   "cell_type": "code",
   "execution_count": 22,
   "id": "3320f708-d5d0-4975-bb2f-173042c3d716",
   "metadata": {},
   "outputs": [],
   "source": [
    "hist = msft.history(period=\"5d\")"
   ]
  },
  {
   "cell_type": "code",
   "execution_count": 23,
   "id": "a2bbffee-d494-4b04-be1a-a64d7713184e",
   "metadata": {},
   "outputs": [
    {
     "data": {
      "text/html": [
       "<div>\n",
       "<style scoped>\n",
       "    .dataframe tbody tr th:only-of-type {\n",
       "        vertical-align: middle;\n",
       "    }\n",
       "\n",
       "    .dataframe tbody tr th {\n",
       "        vertical-align: top;\n",
       "    }\n",
       "\n",
       "    .dataframe thead th {\n",
       "        text-align: right;\n",
       "    }\n",
       "</style>\n",
       "<table border=\"1\" class=\"dataframe\">\n",
       "  <thead>\n",
       "    <tr style=\"text-align: right;\">\n",
       "      <th></th>\n",
       "      <th>Open</th>\n",
       "      <th>High</th>\n",
       "      <th>Low</th>\n",
       "      <th>Close</th>\n",
       "      <th>Volume</th>\n",
       "      <th>Dividends</th>\n",
       "      <th>Stock Splits</th>\n",
       "    </tr>\n",
       "    <tr>\n",
       "      <th>Date</th>\n",
       "      <th></th>\n",
       "      <th></th>\n",
       "      <th></th>\n",
       "      <th></th>\n",
       "      <th></th>\n",
       "      <th></th>\n",
       "      <th></th>\n",
       "    </tr>\n",
       "  </thead>\n",
       "  <tbody>\n",
       "    <tr>\n",
       "      <th>2022-11-25 00:00:00-05:00</th>\n",
       "      <td>247.309998</td>\n",
       "      <td>248.699997</td>\n",
       "      <td>246.729996</td>\n",
       "      <td>247.490005</td>\n",
       "      <td>9200800</td>\n",
       "      <td>0</td>\n",
       "      <td>0</td>\n",
       "    </tr>\n",
       "    <tr>\n",
       "      <th>2022-11-28 00:00:00-05:00</th>\n",
       "      <td>246.080002</td>\n",
       "      <td>246.649994</td>\n",
       "      <td>240.800003</td>\n",
       "      <td>241.759995</td>\n",
       "      <td>24778200</td>\n",
       "      <td>0</td>\n",
       "      <td>0</td>\n",
       "    </tr>\n",
       "    <tr>\n",
       "      <th>2022-11-29 00:00:00-05:00</th>\n",
       "      <td>241.399994</td>\n",
       "      <td>242.789993</td>\n",
       "      <td>238.210007</td>\n",
       "      <td>240.330002</td>\n",
       "      <td>17956300</td>\n",
       "      <td>0</td>\n",
       "      <td>0</td>\n",
       "    </tr>\n",
       "    <tr>\n",
       "      <th>2022-11-30 00:00:00-05:00</th>\n",
       "      <td>240.570007</td>\n",
       "      <td>255.330002</td>\n",
       "      <td>239.860001</td>\n",
       "      <td>255.139999</td>\n",
       "      <td>47553800</td>\n",
       "      <td>0</td>\n",
       "      <td>0</td>\n",
       "    </tr>\n",
       "    <tr>\n",
       "      <th>2022-12-01 00:00:00-05:00</th>\n",
       "      <td>253.869995</td>\n",
       "      <td>256.119995</td>\n",
       "      <td>250.919998</td>\n",
       "      <td>254.690002</td>\n",
       "      <td>25931257</td>\n",
       "      <td>0</td>\n",
       "      <td>0</td>\n",
       "    </tr>\n",
       "  </tbody>\n",
       "</table>\n",
       "</div>"
      ],
      "text/plain": [
       "                                 Open        High         Low       Close  \\\n",
       "Date                                                                        \n",
       "2022-11-25 00:00:00-05:00  247.309998  248.699997  246.729996  247.490005   \n",
       "2022-11-28 00:00:00-05:00  246.080002  246.649994  240.800003  241.759995   \n",
       "2022-11-29 00:00:00-05:00  241.399994  242.789993  238.210007  240.330002   \n",
       "2022-11-30 00:00:00-05:00  240.570007  255.330002  239.860001  255.139999   \n",
       "2022-12-01 00:00:00-05:00  253.869995  256.119995  250.919998  254.690002   \n",
       "\n",
       "                             Volume  Dividends  Stock Splits  \n",
       "Date                                                          \n",
       "2022-11-25 00:00:00-05:00   9200800          0             0  \n",
       "2022-11-28 00:00:00-05:00  24778200          0             0  \n",
       "2022-11-29 00:00:00-05:00  17956300          0             0  \n",
       "2022-11-30 00:00:00-05:00  47553800          0             0  \n",
       "2022-12-01 00:00:00-05:00  25931257          0             0  "
      ]
     },
     "execution_count": 23,
     "metadata": {},
     "output_type": "execute_result"
    }
   ],
   "source": [
    "hist"
   ]
  },
  {
   "cell_type": "code",
   "execution_count": null,
   "id": "b9136a47-6d6d-47fc-96d6-bb6221d889ed",
   "metadata": {},
   "outputs": [],
   "source": [
    "downloaded_stock_data = yf.download(top_10_ranked_stocks_by_marketcap_str, start=\"2011-01-01\", end=\"2019-12-31\", group_by=\"ticker\")"
   ]
  },
  {
   "cell_type": "code",
   "execution_count": null,
   "id": "e6863f71-e1f8-48e4-b964-145684adeccb",
   "metadata": {},
   "outputs": [],
   "source": [
    "dataframe_stock_data = pd.DataFrame(downloaded_stock_data)"
   ]
  },
  {
   "cell_type": "code",
   "execution_count": null,
   "id": "f8caaec7-349b-4d82-9080-6d63ff015307",
   "metadata": {},
   "outputs": [],
   "source": [
    "dataframe_stock_data"
   ]
  },
  {
   "cell_type": "code",
   "execution_count": 26,
   "id": "f4799a9e-1b01-4c3d-a6bb-afb043b46ac0",
   "metadata": {},
   "outputs": [
    {
     "name": "stderr",
     "output_type": "stream",
     "text": [
      "Exception in thread Thread-6:\n",
      "Traceback (most recent call last):\n",
      "  File \"C:\\Users\\Nitai Nijholt\\anaconda3\\lib\\threading.py\", line 932, in _bootstrap_inner\n",
      "    self.run()\n",
      "  File \"C:\\Users\\Nitai Nijholt\\anaconda3\\lib\\threading.py\", line 870, in run\n",
      "    self._target(*self._args, **self._kwargs)\n",
      "  File \"C:\\Users\\Nitai Nijholt\\anaconda3\\lib\\site-packages\\multitasking\\__init__.py\", line 104, in _run_via_pool\n",
      "    return callee(*args, **kwargs)\n",
      "  File \"C:\\Users\\Nitai Nijholt\\anaconda3\\lib\\site-packages\\yfinance\\multi.py\", line 199, in _download_one_threaded\n",
      "    data = _download_one(ticker, start, end, auto_adjust, back_adjust,\n",
      "  File \"C:\\Users\\Nitai Nijholt\\anaconda3\\lib\\site-packages\\yfinance\\multi.py\", line 213, in _download_one\n",
      "    return Ticker(ticker).history(period=period, interval=interval,\n",
      "  File \"C:\\Users\\Nitai Nijholt\\anaconda3\\lib\\site-packages\\yfinance\\base.py\", line 156, in history\n",
      "    tz = self._get_ticker_tz(debug_mode, proxy, timeout)\n",
      "  File \"C:\\Users\\Nitai Nijholt\\anaconda3\\lib\\site-packages\\yfinance\\base.py\", line 339, in _get_ticker_tz\n",
      "    tkr_tz = utils.cache_lookup_tkr_tz(self.ticker)\n",
      "  File \"C:\\Users\\Nitai Nijholt\\anaconda3\\lib\\site-packages\\yfinance\\utils.py\", line 339, in cache_lookup_tkr_tz\n",
      "    df = _pd.read_csv(fp, index_col=\"Ticker\", on_bad_lines=\"skip\")\n",
      "TypeError: read_csv() got an unexpected keyword argument 'on_bad_lines'\n"
     ]
    },
    {
     "ename": "KeyboardInterrupt",
     "evalue": "",
     "output_type": "error",
     "traceback": [
      "\u001b[1;31m---------------------------------------------------------------------------\u001b[0m",
      "\u001b[1;31mKeyboardInterrupt\u001b[0m                         Traceback (most recent call last)",
      "\u001b[1;32m<ipython-input-26-b40364b8e397>\u001b[0m in \u001b[0;36m<module>\u001b[1;34m\u001b[0m\n\u001b[1;32m----> 1\u001b[1;33m \u001b[0mdownload\u001b[0m\u001b[1;33m(\u001b[0m\u001b[0mtop_10_ranked_stocks_by_marketcap_str\u001b[0m\u001b[1;33m[\u001b[0m\u001b[1;36m0\u001b[0m\u001b[1;33m]\u001b[0m\u001b[1;33m)\u001b[0m\u001b[1;33m\u001b[0m\u001b[1;33m\u001b[0m\u001b[0m\n\u001b[0m",
      "\u001b[1;32m<ipython-input-25-537f945d9b4d>\u001b[0m in \u001b[0;36mdownload\u001b[1;34m(tickers)\u001b[0m\n\u001b[0;32m      1\u001b[0m \u001b[1;32mdef\u001b[0m \u001b[0mdownload\u001b[0m\u001b[1;33m(\u001b[0m\u001b[0mtickers\u001b[0m\u001b[1;33m:\u001b[0m \u001b[0mstr\u001b[0m\u001b[1;33m)\u001b[0m\u001b[1;33m:\u001b[0m\u001b[1;33m\u001b[0m\u001b[1;33m\u001b[0m\u001b[0m\n\u001b[0;32m      2\u001b[0m \u001b[1;33m\u001b[0m\u001b[0m\n\u001b[1;32m----> 3\u001b[1;33m     \u001b[0mdf\u001b[0m \u001b[1;33m=\u001b[0m \u001b[0myf\u001b[0m\u001b[1;33m.\u001b[0m\u001b[0mdownload\u001b[0m\u001b[1;33m(\u001b[0m\u001b[0mtickers\u001b[0m\u001b[1;33m,\u001b[0m \u001b[0mstart\u001b[0m\u001b[1;33m=\u001b[0m\u001b[1;34m\"2011-01-01\"\u001b[0m\u001b[1;33m,\u001b[0m \u001b[0mend\u001b[0m\u001b[1;33m=\u001b[0m\u001b[1;34m\"2019-12-31\"\u001b[0m\u001b[1;33m,\u001b[0m \u001b[0mgroup_by\u001b[0m\u001b[1;33m=\u001b[0m\u001b[1;34m\"ticker\"\u001b[0m\u001b[1;33m)\u001b[0m\u001b[1;33m\u001b[0m\u001b[1;33m\u001b[0m\u001b[0m\n\u001b[0m\u001b[0;32m      4\u001b[0m     \u001b[0mdf\u001b[0m\u001b[1;33m.\u001b[0m\u001b[0mto_csv\u001b[0m\u001b[1;33m(\u001b[0m\u001b[1;34m\"stock_data.csv\"\u001b[0m\u001b[1;33m)\u001b[0m\u001b[1;33m\u001b[0m\u001b[1;33m\u001b[0m\u001b[0m\n",
      "\u001b[1;32m~\\anaconda3\\lib\\site-packages\\yfinance\\multi.py\u001b[0m in \u001b[0;36mdownload\u001b[1;34m(tickers, start, end, actions, threads, ignore_tz, group_by, auto_adjust, back_adjust, keepna, progress, period, show_errors, interval, prepost, proxy, rounding, timeout, **kwargs)\u001b[0m\n\u001b[0;32m    116\u001b[0m                                    rounding=rounding, timeout=timeout)\n\u001b[0;32m    117\u001b[0m         \u001b[1;32mwhile\u001b[0m \u001b[0mlen\u001b[0m\u001b[1;33m(\u001b[0m\u001b[0mshared\u001b[0m\u001b[1;33m.\u001b[0m\u001b[0m_DFS\u001b[0m\u001b[1;33m)\u001b[0m \u001b[1;33m<\u001b[0m \u001b[0mlen\u001b[0m\u001b[1;33m(\u001b[0m\u001b[0mtickers\u001b[0m\u001b[1;33m)\u001b[0m\u001b[1;33m:\u001b[0m\u001b[1;33m\u001b[0m\u001b[1;33m\u001b[0m\u001b[0m\n\u001b[1;32m--> 118\u001b[1;33m             \u001b[0m_time\u001b[0m\u001b[1;33m.\u001b[0m\u001b[0msleep\u001b[0m\u001b[1;33m(\u001b[0m\u001b[1;36m0.01\u001b[0m\u001b[1;33m)\u001b[0m\u001b[1;33m\u001b[0m\u001b[1;33m\u001b[0m\u001b[0m\n\u001b[0m\u001b[0;32m    119\u001b[0m \u001b[1;33m\u001b[0m\u001b[0m\n\u001b[0;32m    120\u001b[0m     \u001b[1;31m# download synchronously\u001b[0m\u001b[1;33m\u001b[0m\u001b[1;33m\u001b[0m\u001b[1;33m\u001b[0m\u001b[0m\n",
      "\u001b[1;31mKeyboardInterrupt\u001b[0m: "
     ]
    }
   ],
   "source": [
    "# download(top_10_ranked_stocks_by_marketcap_str[0])"
   ]
  },
  {
   "cell_type": "code",
   "execution_count": null,
   "id": "6e580d5e-6732-4b12-ab76-2340979340c6",
   "metadata": {},
   "outputs": [],
   "source": [
    "df = pd.read_csv(\"Data/stock_data.csv\")\n",
    "df = df.rename(columns={\"Unnamed: 0\": \"Date\"})\n",
    "df = df.drop([0, 1])"
   ]
  },
  {
   "cell_type": "code",
   "execution_count": null,
   "id": "13a057e8-74b6-428a-89f1-204decde1361",
   "metadata": {},
   "outputs": [],
   "source": []
  },
  {
   "cell_type": "code",
   "execution_count": null,
   "id": "db227a95-94df-4da2-95dd-47ec9b6bc1cb",
   "metadata": {},
   "outputs": [],
   "source": [
    "def plot_stocks(df: pd.DataFrame, tickers: list):\n",
    "    x_values = [dt.strptime(d, \"%Y-%m-%d\").date() for d in df[\"Date\"]]\n",
    "    for ticker in tickers:\n",
    "        y_values = [float(price) for price in df[ticker]]\n",
    "        plt.plot(x_values, y_values, label = ticker)\n",
    "    plt.ylabel(\"Price (USD)\")\n",
    "    plt.legend()\n",
    "    plt.show()"
   ]
  },
  {
   "cell_type": "code",
   "execution_count": null,
   "id": "67b019b7-6906-427d-89a0-4cf9d3630022",
   "metadata": {},
   "outputs": [],
   "source": [
    "plot_stocks(df, [\"AMZN\", \"AAPL\"])"
   ]
  },
  {
   "cell_type": "markdown",
   "id": "53c3d1a2-5903-4012-9adb-446f44663a28",
   "metadata": {},
   "source": [
    "## The code below is copied from my thesis, most of it will probably be usefull. will sort out later which parts we need and which we dont as the anaylisis proceeds"
   ]
  },
  {
   "cell_type": "code",
   "execution_count": null,
   "id": "27a4c22a-4ddf-4376-8a01-d2867bf1c454",
   "metadata": {},
   "outputs": [],
   "source": [
    "#checking if the timeseries are stationairy\n",
    "\n",
    "stationary_series =[]\n",
    "Non_stationairy_series = []\n",
    "\n",
    "for variable in df.columns:\n",
    "    print(f\"Output results augmented Dickey Fuller test for variable: {variable}\")\n",
    "    results_augmented_dickey_fuller = adfuller(df[variable])\n",
    "    print('ADF Statistic: %f' % results_augmented_dickey_fuller[0])\n",
    "    print('p-value: %f' % results_augmented_dickey_fuller[1])\n",
    "    print('Critical Values:')\n",
    "    for key, value in results_augmented_dickey_fuller[4].items():\n",
    "        print('\\t%s: %.3f' % (key, value))\n",
    "\n",
    "    if results_augmented_dickey_fuller[1] <= 0.05:\n",
    "        print(\"Conclusion: p-value <= 0.05: Reject the null hypothesis (H0), the data does not have a unit root and is stationary\")\n",
    "        Stationary_series.append(variable)\n",
    "    else:\n",
    "        print(\"Conclusion: p-value > 0.05: Fail to reject the null hypothesis (H0), the data has a unit root and is non-stationary\")\n",
    "        Non_stationairy_series.append(variable)\n",
    "        \n",
    "print(f\"-------------------------------------------------------------------------------------------------------------------------------Stationary_series: {Stationary_series}, Non_stationairy_series: {Non_stationairy_se"
   ]
  },
  {
   "cell_type": "code",
   "execution_count": null,
   "id": "bf42627c-8687-4f4a-8cca-9679c21d6819",
   "metadata": {},
   "outputs": [],
   "source": [
    "#testing partial auto correlations\n",
    "for variable in df.columns:\n",
    "    plot_pacf(df[variable], lags = 5)\n",
    "    print(variable)\n",
    "    plt.show()"
   ]
  },
  {
   "cell_type": "code",
   "execution_count": null,
   "id": "956a4912-0c44-4fb0-bfc5-45f25944c309",
   "metadata": {},
   "outputs": [],
   "source": [
    "for variable in df.columns:\n",
    "    plot_acf(df[variable], lags = 5)\n",
    "    print(variable)\n",
    "    plt.show()"
   ]
  },
  {
   "cell_type": "code",
   "execution_count": null,
   "id": "9fc68baa-3e42-40fd-ac65-961701185074",
   "metadata": {},
   "outputs": [],
   "source": [
    "modelVAR = VAR(df)"
   ]
  },
  {
   "cell_type": "code",
   "execution_count": null,
   "id": "297e5fc3-c50a-49e5-bd61-5126b23f87ca",
   "metadata": {},
   "outputs": [],
   "source": [
    "modelVAR.select_order(maxlags = 3).summary()"
   ]
  },
  {
   "cell_type": "code",
   "execution_count": null,
   "id": "9548b544-ddac-434a-b5b1-00dd423ac4e9",
   "metadata": {},
   "outputs": [],
   "source": [
    "results = modelVAR.fit(3)\n",
    "results.summary()"
   ]
  },
  {
   "cell_type": "code",
   "execution_count": null,
   "id": "7ee062c4-5709-4b73-8710-2a5d8b004249",
   "metadata": {},
   "outputs": [],
   "source": [
    "#results indicate significant residual auto correlation\n",
    "\n",
    "results.test_whiteness().summary()"
   ]
  },
  {
   "cell_type": "code",
   "execution_count": null,
   "id": "5e5e9c57-629e-4106-bdf2-f72b61a06cf8",
   "metadata": {},
   "outputs": [],
   "source": [
    "#Normality looks okay\n",
    "\n",
    "results.test_normality().summary()"
   ]
  },
  {
   "cell_type": "code",
   "execution_count": null,
   "id": "3c09acbe-f36f-4382-8a56-d78ac2803a17",
   "metadata": {},
   "outputs": [],
   "source": [
    "#printing skewness per variable\n",
    "\n",
    "Skewed_variables = []\n",
    "Kurtosis_conaining_variables = []\n",
    "\n",
    "for i in df.columns:\n",
    "    print(df[i].describe())\n",
    "    print(f'Kurtosis: {df[i].kurtosis()}')\n",
    "    print(f'Skewness: {df[i].skew()}')\n",
    "    if df[i].kurtosis() <= -10 or df[i].kurtosis() >= 10:\n",
    "        Kurtosis_conaining_variables.append(i)\n",
    "    else: \n",
    "        continue\n",
    "    if df[i].skew() >= 3 or df[i].skew() <= -3:\n",
    "        Skewed_variables.append(i)\n",
    "\n",
    "\n",
    "if len (Skewed_variables) == 0:\n",
    "        print(f'all variables have skewness in acceptable ranges (-3 < skewness < 3)')\n",
    "if len (Kurtosis_conaining_variables) == 0:\n",
    "        print(f'all variables have kurtosis in acceptable ranges (-10 < kurtosis < 10)')"
   ]
  },
  {
   "cell_type": "code",
   "execution_count": null,
   "id": "17aed7ec-fe98-4d49-a404-03531b90d48e",
   "metadata": {},
   "outputs": [],
   "source": [
    "corr = df.corr()\n",
    "corr\n",
    "# corr.style.background_gradient(cmap='coolwarm')"
   ]
  },
  {
   "cell_type": "code",
   "execution_count": null,
   "id": "3643d02f-0141-4927-9a72-14d841c09133",
   "metadata": {},
   "outputs": [],
   "source": [
    "#testing for ARCH effects\n",
    "\n",
    "residuals = resultsVECM_oldagedependecyratio_exogcoint.resid\n",
    "print(\"Engle’s Test for Autoregressive Conditional Heteroscedasticity (ARCH)\\n\")\n",
    "for i in range(len(residuals[0,:])):\n",
    "    het_test_result= het_arch(residuals[:,i],nlags=2)\n",
    "    print(f'the Lagrange multiplier test of variable: {endog.columns[i]} has test statistic: {het_test_result[0]} and has p-value: {het_test_result[1]}')\n",
    "    if het_test_result[1] <=0.05:\n",
    "        print('found p-value < 0.05, so H0: no Autoregressive Conditional Heteroscedasticity is rejected\\n')\n",
    "    else:\n",
    "        print('found p-value > 0.05, so H0: no Autoregressive Conditional Heteroscedasticity is not rejected\\n')"
   ]
  },
  {
   "cell_type": "code",
   "execution_count": null,
   "id": "0d3a8aea-bda9-432c-8e72-500683edb995",
   "metadata": {},
   "outputs": [],
   "source": [
    "from statsmodels.stats.stattools import durbin_watson\n",
    "\n",
    "durbin_watson(residuals)"
   ]
  },
  {
   "cell_type": "code",
   "execution_count": null,
   "id": "2bf21a41-12d6-4c83-a305-3c65e2ac7861",
   "metadata": {},
   "outputs": [],
   "source": [
    "\n",
    "from statsmodels.tsa.stattools import grangercausalitytests\n",
    "maxlag=2\n",
    "test = 'ssr_chi2test'\n",
    "def grangers_causation_matrix(data, variables, test='ssr_chi2test', verbose=False):    \n",
    "    df = pd.DataFrame(np.zeros((len(variables), len(variables))), columns=variables, index=variables)\n",
    "    for c in df.columns:\n",
    "        for r in df.index:\n",
    "            test_result = grangercausalitytests(data[[r, c]], maxlag=maxlag, verbose=False)\n",
    "            p_values = [round(test_result[i+1][0][test][1],4) for i in range(maxlag)]\n",
    "            if verbose: print(f'Y = {r}, X = {c}, P Values = {p_values}')\n",
    "            min_p_value = np.min(p_values)\n",
    "            df.loc[r, c] = min_p_value\n",
    "    df.columns = [var + '_x' for var in variables]\n",
    "    df.index = [var + '_y' for var in variables]\n",
    "    return df\n",
    "\n",
    "\n",
    "df_1 = grangers_causation_matrix(df, variables = df.columns)  \n",
    "df_1\n"
   ]
  }
 ],
 "metadata": {
  "kernelspec": {
   "display_name": "Python 3",
   "language": "python",
   "name": "python3"
  },
  "language_info": {
   "codemirror_mode": {
    "name": "ipython",
    "version": 3
   },
   "file_extension": ".py",
   "mimetype": "text/x-python",
   "name": "python",
   "nbconvert_exporter": "python",
   "pygments_lexer": "ipython3",
   "version": "3.8.8"
  }
 },
 "nbformat": 4,
 "nbformat_minor": 5
}
